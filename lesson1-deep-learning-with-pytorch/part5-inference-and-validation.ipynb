{
 "cells": [
  {
   "cell_type": "markdown",
   "metadata": {},
   "source": [
    "# Inference and Validation\n",
    "\n",
    "Now that you have a trained network, you can use it for making predictions. This is typically called **inference**, a term borrowed from statistics. However, neural networks have a tendency to perform *too well* on the training data and aren't able to generalize to data that hasn't been seen before. This is called **overfitting** and it impairs inference performance. To test for overfitting while training, we measure the performance on data not in the training set called the **validation** set. We avoid overfitting through regularization such as dropout while monitoring the validation performance during training. In this notebook, I'll show you how to do this in PyTorch. \n",
    "\n",
    "As usual, let's start by loading the dataset through torchvision. You'll learn more about torchvision and loading data in a later part. This time we'll be taking advantage of the test set which you can get by setting `train=False` here:\n",
    "\n",
    "```python\n",
    "testset = datasets.FashionMNIST('~/.pytorch/F_MNIST_data/', download=True, train=False, transform=transform)\n",
    "```\n",
    "\n",
    "The test set contains images just like the training set. Typically you'll see 10-20% of the original dataset held out for testing and validation with the rest being used for training."
   ]
  },
  {
   "cell_type": "code",
   "execution_count": 1,
   "metadata": {},
   "outputs": [],
   "source": [
    "import torch\n",
    "from torchvision import datasets, transforms\n",
    "\n",
    "# Define a transform to normalize the data\n",
    "transform = transforms.Compose([transforms.ToTensor(),\n",
    "                                transforms.Normalize((0.5,), (0.5,))])\n",
    "# Download and load the training data\n",
    "trainset = datasets.FashionMNIST('~/.pytorch/F_MNIST_data/', download=True, train=True, transform=transform)\n",
    "trainloader = torch.utils.data.DataLoader(trainset, batch_size=64, shuffle=True)\n",
    "\n",
    "# Download and load the test data\n",
    "testset = datasets.FashionMNIST('~/.pytorch/F_MNIST_data/', download=True, train=False, transform=transform)\n",
    "testloader = torch.utils.data.DataLoader(testset, batch_size=64, shuffle=True)"
   ]
  },
  {
   "cell_type": "markdown",
   "metadata": {},
   "source": [
    "Here I'll create a model like normal, using the same one from my solution for part 4."
   ]
  },
  {
   "cell_type": "code",
   "execution_count": 2,
   "metadata": {},
   "outputs": [],
   "source": [
    "from torch import nn, optim\n",
    "import torch.nn.functional as F\n",
    "\n",
    "class Classifier(nn.Module):\n",
    "    def __init__(self):\n",
    "        super().__init__()\n",
    "        self.fc1 = nn.Linear(784, 256)\n",
    "        self.fc2 = nn.Linear(256, 128)\n",
    "        self.fc3 = nn.Linear(128, 64)\n",
    "        self.fc4 = nn.Linear(64, 10)\n",
    "        \n",
    "    def forward(self, x):\n",
    "        # Make sure input tensor is flattened\n",
    "        x = x.view(x.shape[0], -1)\n",
    "        \n",
    "        x = F.relu(self.fc1(x))\n",
    "        x = F.relu(self.fc2(x))\n",
    "        x = F.relu(self.fc3(x))\n",
    "        x = F.log_softmax(self.fc4(x), dim=1)\n",
    "        \n",
    "        return x"
   ]
  },
  {
   "cell_type": "markdown",
   "metadata": {},
   "source": [
    "The goal of validation is to measure the model's performance on data that isn't part of the training set. Performance here is up to the developer to define though. Typically this is just accuracy, the percentage of classes the network predicted correctly. Other options are [precision and recall](https://en.wikipedia.org/wiki/Precision_and_recall#Definition_(classification_context)) and top-5 error rate. We'll focus on accuracy here. First I'll do a forward pass with one batch from the test set."
   ]
  },
  {
   "cell_type": "code",
   "execution_count": 3,
   "metadata": {},
   "outputs": [
    {
     "name": "stdout",
     "output_type": "stream",
     "text": [
      "torch.Size([64, 10])\n"
     ]
    }
   ],
   "source": [
    "model = Classifier()\n",
    "\n",
    "images, labels = next(iter(testloader))\n",
    "# Get the class probabilities\n",
    "ps = torch.exp(model(images))\n",
    "# Make sure the shape is appropriate, we should get 10 class probabilities for 64 examples\n",
    "print(ps.shape)"
   ]
  },
  {
   "cell_type": "markdown",
   "metadata": {},
   "source": [
    "With the probabilities, we can get the most likely class using the `ps.topk` method. This returns the $k$ highest values. Since we just want the most likely class, we can use `ps.topk(1)`. This returns a tuple of the top-$k$ values and the top-$k$ indices. If the highest value is the fifth element, we'll get back 4 as the index."
   ]
  },
  {
   "cell_type": "code",
   "execution_count": 4,
   "metadata": {},
   "outputs": [
    {
     "name": "stdout",
     "output_type": "stream",
     "text": [
      "tensor([[5],\n",
      "        [5],\n",
      "        [5],\n",
      "        [5],\n",
      "        [5],\n",
      "        [5],\n",
      "        [5],\n",
      "        [5],\n",
      "        [5],\n",
      "        [5]])\n"
     ]
    }
   ],
   "source": [
    "top_p, top_class = ps.topk(1, dim=1)\n",
    "# Look at the most likely classes for the first 10 examples\n",
    "print(top_class[:10,:])"
   ]
  },
  {
   "cell_type": "markdown",
   "metadata": {},
   "source": [
    "Now we can check if the predicted classes match the labels. This is simple to do by equating `top_class` and `labels`, but we have to be careful of the shapes. Here `top_class` is a 2D tensor with shape `(64, 1)` while `labels` is 1D with shape `(64)`. To get the equality to work out the way we want, `top_class` and `labels` must have the same shape.\n",
    "\n",
    "If we do\n",
    "\n",
    "```python\n",
    "equals = top_class == labels\n",
    "```\n",
    "\n",
    "`equals` will have shape `(64, 64)`, try it yourself. What it's doing is comparing the one element in each row of `top_class` with each element in `labels` which returns 64 True/False boolean values for each row."
   ]
  },
  {
   "cell_type": "code",
   "execution_count": 5,
   "metadata": {},
   "outputs": [],
   "source": [
    "equals = top_class == labels.view(*top_class.shape)"
   ]
  },
  {
   "cell_type": "markdown",
   "metadata": {},
   "source": [
    "Now we need to calculate the percentage of correct predictions. `equals` has binary values, either 0 or 1. This means that if we just sum up all the values and divide by the number of values, we get the percentage of correct predictions. This is the same operation as taking the mean, so we can get the accuracy with a call to `torch.mean`. If only it was that simple. If you try `torch.mean(equals)`, you'll get an error\n",
    "\n",
    "```\n",
    "RuntimeError: mean is not implemented for type torch.ByteTensor\n",
    "```\n",
    "\n",
    "This happens because `equals` has type `torch.ByteTensor` but `torch.mean` isn't implemented for tensors with that type. So we'll need to convert `equals` to a float tensor. Note that when we take `torch.mean` it returns a scalar tensor, to get the actual value as a float we'll need to do `accuracy.item()`."
   ]
  },
  {
   "cell_type": "code",
   "execution_count": 6,
   "metadata": {},
   "outputs": [
    {
     "name": "stdout",
     "output_type": "stream",
     "text": [
      "Accuracy: 10.9375%\n"
     ]
    }
   ],
   "source": [
    "accuracy = torch.mean(equals.type(torch.FloatTensor))\n",
    "print(f'Accuracy: {accuracy.item()*100}%')"
   ]
  },
  {
   "cell_type": "markdown",
   "metadata": {},
   "source": [
    "The network is untrained so it's making random guesses and we should see an accuracy around 10%. Now let's train our network and include our validation pass so we can measure how well the network is performing on the test set. Since we're not updating our parameters in the validation pass, we can speed up our code by turning off gradients using `torch.no_grad()`:\n",
    "\n",
    "```python\n",
    "# turn off gradients\n",
    "with torch.no_grad():\n",
    "    # validation pass here\n",
    "    for images, labels in testloader:\n",
    "        ...\n",
    "```\n",
    "\n",
    ">**Exercise:** Implement the validation loop below and print out the total accuracy after the loop. You can largely copy and paste the code from above, but I suggest typing it in because writing it out yourself is essential for building the skill. In general you'll always learn more by typing it rather than copy-pasting. You should be able to get an accuracy above 80%."
   ]
  },
  {
   "cell_type": "code",
   "execution_count": 7,
   "metadata": {},
   "outputs": [
    {
     "name": "stdout",
     "output_type": "stream",
     "text": [
      "Epoch: 1/30..  Train Loss: 0.522..  Test Loss: 0.438..  Test Accuracy: 0.844\n",
      "Epoch: 2/30..  Train Loss: 0.404..  Test Loss: 0.411..  Test Accuracy: 0.858\n",
      "Epoch: 3/30..  Train Loss: 0.365..  Test Loss: 0.394..  Test Accuracy: 0.859\n",
      "Epoch: 4/30..  Train Loss: 0.343..  Test Loss: 0.402..  Test Accuracy: 0.859\n",
      "Epoch: 5/30..  Train Loss: 0.329..  Test Loss: 0.417..  Test Accuracy: 0.858\n",
      "Epoch: 6/30..  Train Loss: 0.322..  Test Loss: 0.398..  Test Accuracy: 0.859\n",
      "Epoch: 7/30..  Train Loss: 0.309..  Test Loss: 0.372..  Test Accuracy: 0.873\n",
      "Epoch: 8/30..  Train Loss: 0.300..  Test Loss: 0.412..  Test Accuracy: 0.863\n",
      "Epoch: 9/30..  Train Loss: 0.290..  Test Loss: 0.411..  Test Accuracy: 0.864\n",
      "Epoch: 10/30..  Train Loss: 0.288..  Test Loss: 0.411..  Test Accuracy: 0.866\n",
      "Epoch: 11/30..  Train Loss: 0.281..  Test Loss: 0.385..  Test Accuracy: 0.874\n",
      "Epoch: 12/30..  Train Loss: 0.270..  Test Loss: 0.379..  Test Accuracy: 0.875\n",
      "Epoch: 13/30..  Train Loss: 0.270..  Test Loss: 0.386..  Test Accuracy: 0.874\n",
      "Epoch: 14/30..  Train Loss: 0.270..  Test Loss: 0.419..  Test Accuracy: 0.872\n",
      "Epoch: 15/30..  Train Loss: 0.264..  Test Loss: 0.399..  Test Accuracy: 0.871\n",
      "Epoch: 16/30..  Train Loss: 0.261..  Test Loss: 0.384..  Test Accuracy: 0.875\n",
      "Epoch: 17/30..  Train Loss: 0.257..  Test Loss: 0.372..  Test Accuracy: 0.882\n",
      "Epoch: 18/30..  Train Loss: 0.250..  Test Loss: 0.368..  Test Accuracy: 0.877\n",
      "Epoch: 19/30..  Train Loss: 0.247..  Test Loss: 0.364..  Test Accuracy: 0.880\n",
      "Epoch: 20/30..  Train Loss: 0.247..  Test Loss: 0.393..  Test Accuracy: 0.872\n",
      "Epoch: 21/30..  Train Loss: 0.240..  Test Loss: 0.395..  Test Accuracy: 0.871\n",
      "Epoch: 22/30..  Train Loss: 0.246..  Test Loss: 0.411..  Test Accuracy: 0.876\n",
      "Epoch: 23/30..  Train Loss: 0.231..  Test Loss: 0.398..  Test Accuracy: 0.882\n",
      "Epoch: 24/30..  Train Loss: 0.229..  Test Loss: 0.382..  Test Accuracy: 0.876\n",
      "Epoch: 25/30..  Train Loss: 0.231..  Test Loss: 0.416..  Test Accuracy: 0.877\n",
      "Epoch: 26/30..  Train Loss: 0.222..  Test Loss: 0.385..  Test Accuracy: 0.885\n",
      "Epoch: 27/30..  Train Loss: 0.225..  Test Loss: 0.419..  Test Accuracy: 0.875\n",
      "Epoch: 28/30..  Train Loss: 0.223..  Test Loss: 0.406..  Test Accuracy: 0.882\n",
      "Epoch: 29/30..  Train Loss: 0.219..  Test Loss: 0.408..  Test Accuracy: 0.879\n",
      "Epoch: 30/30..  Train Loss: 0.211..  Test Loss: 0.458..  Test Accuracy: 0.873\n"
     ]
    }
   ],
   "source": [
    "# Define model\n",
    "model = Classifier()\n",
    "criterion = nn.NLLLoss()\n",
    "optimizer = optim.Adam(model.parameters(), lr=0.004)\n",
    "\n",
    "epochs = 30\n",
    "steps = 0\n",
    "\n",
    "for e in range(epochs):\n",
    "    \n",
    "    train_loss = 0\n",
    "    \n",
    "    for images, labels in trainloader:\n",
    "        \n",
    "        # Clear the gradients, do this because gradients are accumulated\n",
    "        optimizer.zero_grad()\n",
    "        \n",
    "        # Make a forward pass through the network to get the logits\n",
    "        logits = model(images)\n",
    "        \n",
    "        # Use the logits to calculate the loss\n",
    "        loss = criterion(logits, labels)\n",
    "        \n",
    "        # Perform a backward pass through the network to calculate the gradients\n",
    "        loss.backward()\n",
    "        \n",
    "        # Update the weights\n",
    "        optimizer.step()\n",
    "        \n",
    "        # Update train loss\n",
    "        train_loss += loss.item()\n",
    "        \n",
    "    else:\n",
    "        \n",
    "        test_loss = 0\n",
    "        accuracy = 0\n",
    "        \n",
    "        # Implement the validation pass and print out the validation accuracy\n",
    "        with torch.no_grad():\n",
    "            \n",
    "            # Validation pass here\n",
    "            for images, labels in testloader:\n",
    "                \n",
    "                # Make a forward pass through the network to get the logits\n",
    "                logits = model(images)\n",
    "                \n",
    "                # Use the logits to calculate the loss\n",
    "                loss = criterion(logits, labels)\n",
    "                \n",
    "                # Get the class probabilities\n",
    "                ps = torch.exp(logits)\n",
    "                \n",
    "                # Get the most likely class using the ps.topk method\n",
    "                top_p, top_class = ps.topk(1, dim=1)\n",
    "                \n",
    "                # Check if the predicted classes match the labels\n",
    "                equals = top_class == labels.view(*top_class.shape)\n",
    "                \n",
    "                # Update test loss\n",
    "                test_loss += loss.item()\n",
    "                \n",
    "                # Calculate the percentage of correct predictions\n",
    "                accuracy += torch.mean(equals.type(torch.FloatTensor))\n",
    "        \n",
    "        print(\"Epoch: {}/{}.. \".format(e+1, epochs),\n",
    "              \"Train Loss: {:.3f}.. \".format(train_loss/len(trainloader)),\n",
    "              \"Test Loss: {:.3f}.. \".format(test_loss/len(testloader)),\n",
    "              \"Test Accuracy: {:.3f}\".format(accuracy/len(testloader)))"
   ]
  },
  {
   "cell_type": "markdown",
   "metadata": {},
   "source": [
    "## Overfitting\n",
    "\n",
    "If we look at the training and validation losses as we train the network, we can see a phenomenon known as overfitting.\n",
    "\n",
    "<img src='assets/overfitting.png' width=450px>\n",
    "\n",
    "The network learns the training set better and better, resulting in lower training losses. However, it starts having problems generalizing to data outside the training set leading to the validation loss increasing. The ultimate goal of any deep learning model is to make predictions on new data, so we should strive to get the lowest validation loss possible. One option is to use the version of the model with the lowest validation loss, here the one around 8-10 training epochs. This strategy is called *early-stopping*. In practice, you'd save the model frequently as you're training then later choose the model with the lowest validation loss.\n",
    "\n",
    "The most common method to reduce overfitting (outside of early-stopping) is *dropout*, where we randomly drop input units. This forces the network to share information between weights, increasing it's ability to generalize to new data. Adding dropout in PyTorch is straightforward using the [`nn.Dropout`](https://pytorch.org/docs/stable/nn.html#torch.nn.Dropout) module.\n",
    "\n",
    "```python\n",
    "class Classifier(nn.Module):\n",
    "    def __init__(self):\n",
    "        super().__init__()\n",
    "        self.fc1 = nn.Linear(784, 256)\n",
    "        self.fc2 = nn.Linear(256, 128)\n",
    "        self.fc3 = nn.Linear(128, 64)\n",
    "        self.fc4 = nn.Linear(64, 10)\n",
    "        \n",
    "        # Dropout module with 0.2 drop probability\n",
    "        self.dropout = nn.Dropout(p=0.2)\n",
    "        \n",
    "    def forward(self, x):\n",
    "        # Make sure input tensor is flattened\n",
    "        x = x.view(x.shape[0], -1)\n",
    "        \n",
    "        # Now with dropout\n",
    "        x = self.dropout(F.relu(self.fc1(x)))\n",
    "        x = self.dropout(F.relu(self.fc2(x)))\n",
    "        x = self.dropout(F.relu(self.fc3(x)))\n",
    "        \n",
    "        # Output so no dropout here\n",
    "        x = F.log_softmax(self.fc4(x), dim=1)\n",
    "        \n",
    "        return x\n",
    "```\n",
    "\n",
    "During training we want to use dropout to prevent overfitting, but during inference we want to use the entire network. So, we need to turn off dropout during validation, testing, and whenever we're using the network to make predictions. To do this, you use `model.eval()`. This sets the model to evaluation mode where the dropout probability is 0. You can turn dropout back on by setting the model to train mode with `model.train()`. In general, the pattern for the validation loop will look like this, where you turn off gradients, set the model to evaluation mode, calculate the validation loss and metric, then set the model back to train mode.\n",
    "\n",
    "```python\n",
    "# Turn off gradients\n",
    "with torch.no_grad():\n",
    "    \n",
    "    # Set model to evaluation mode\n",
    "    model.eval()\n",
    "    \n",
    "    # Validation pass here\n",
    "    for images, labels in testloader:\n",
    "        ...\n",
    "\n",
    "# Set model back to train mode\n",
    "model.train()\n",
    "```"
   ]
  },
  {
   "cell_type": "markdown",
   "metadata": {},
   "source": [
    "> **Exercise:** Add dropout to your model and train it on Fashion-MNIST again. See if you can get a lower validation loss or higher accuracy."
   ]
  },
  {
   "cell_type": "code",
   "execution_count": 8,
   "metadata": {},
   "outputs": [],
   "source": [
    "# Define model with dropout added\n",
    "class Classifier(nn.Module):\n",
    "    def __init__(self):\n",
    "        super().__init__()\n",
    "        self.fc1 = nn.Linear(784, 256)\n",
    "        self.fc2 = nn.Linear(256, 128)\n",
    "        self.fc3 = nn.Linear(128, 64)\n",
    "        self.fc4 = nn.Linear(64, 10)\n",
    "\n",
    "        # Dropout module with 0.2 drop probability\n",
    "        self.dropout = nn.Dropout(p=0.2)\n",
    "\n",
    "    def forward(self, x):\n",
    "        # Make sure input tensor is flattened\n",
    "        x = x.view(x.shape[0], -1)\n",
    "\n",
    "        # Now with dropout\n",
    "        x = self.dropout(F.relu(self.fc1(x)))\n",
    "        x = self.dropout(F.relu(self.fc2(x)))\n",
    "        x = self.dropout(F.relu(self.fc3(x)))\n",
    "\n",
    "        # Output so no dropout here\n",
    "        x = F.log_softmax(self.fc4(x), dim=1)\n",
    "\n",
    "        return x"
   ]
  },
  {
   "cell_type": "code",
   "execution_count": 9,
   "metadata": {},
   "outputs": [
    {
     "name": "stdout",
     "output_type": "stream",
     "text": [
      "Epoch: 1/30..  Train Loss: 0.617..  Test Loss: 0.500..  Test Accuracy: 0.827\n",
      "Epoch: 2/30..  Train Loss: 0.514..  Test Loss: 0.452..  Test Accuracy: 0.833\n",
      "Epoch: 3/30..  Train Loss: 0.485..  Test Loss: 0.438..  Test Accuracy: 0.844\n",
      "Epoch: 4/30..  Train Loss: 0.467..  Test Loss: 0.436..  Test Accuracy: 0.843\n",
      "Epoch: 5/30..  Train Loss: 0.463..  Test Loss: 0.439..  Test Accuracy: 0.848\n",
      "Epoch: 6/30..  Train Loss: 0.459..  Test Loss: 0.438..  Test Accuracy: 0.847\n",
      "Epoch: 7/30..  Train Loss: 0.453..  Test Loss: 0.426..  Test Accuracy: 0.854\n",
      "Epoch: 8/30..  Train Loss: 0.439..  Test Loss: 0.405..  Test Accuracy: 0.858\n",
      "Epoch: 9/30..  Train Loss: 0.435..  Test Loss: 0.413..  Test Accuracy: 0.857\n",
      "Epoch: 10/30..  Train Loss: 0.439..  Test Loss: 0.419..  Test Accuracy: 0.852\n",
      "Epoch: 11/30..  Train Loss: 0.435..  Test Loss: 0.414..  Test Accuracy: 0.854\n",
      "Epoch: 12/30..  Train Loss: 0.423..  Test Loss: 0.401..  Test Accuracy: 0.860\n",
      "Epoch: 13/30..  Train Loss: 0.419..  Test Loss: 0.421..  Test Accuracy: 0.852\n",
      "Epoch: 14/30..  Train Loss: 0.431..  Test Loss: 0.408..  Test Accuracy: 0.858\n",
      "Epoch: 15/30..  Train Loss: 0.421..  Test Loss: 0.399..  Test Accuracy: 0.860\n",
      "Epoch: 16/30..  Train Loss: 0.426..  Test Loss: 0.398..  Test Accuracy: 0.862\n",
      "Epoch: 17/30..  Train Loss: 0.417..  Test Loss: 0.417..  Test Accuracy: 0.861\n",
      "Epoch: 18/30..  Train Loss: 0.416..  Test Loss: 0.415..  Test Accuracy: 0.859\n",
      "Epoch: 19/30..  Train Loss: 0.420..  Test Loss: 0.402..  Test Accuracy: 0.864\n",
      "Epoch: 20/30..  Train Loss: 0.399..  Test Loss: 0.407..  Test Accuracy: 0.860\n",
      "Epoch: 21/30..  Train Loss: 0.419..  Test Loss: 0.419..  Test Accuracy: 0.862\n",
      "Epoch: 22/30..  Train Loss: 0.401..  Test Loss: 0.413..  Test Accuracy: 0.861\n",
      "Epoch: 23/30..  Train Loss: 0.407..  Test Loss: 0.428..  Test Accuracy: 0.857\n",
      "Epoch: 24/30..  Train Loss: 0.421..  Test Loss: 0.443..  Test Accuracy: 0.855\n",
      "Epoch: 25/30..  Train Loss: 0.414..  Test Loss: 0.406..  Test Accuracy: 0.867\n",
      "Epoch: 26/30..  Train Loss: 0.403..  Test Loss: 0.405..  Test Accuracy: 0.863\n",
      "Epoch: 27/30..  Train Loss: 0.397..  Test Loss: 0.399..  Test Accuracy: 0.864\n",
      "Epoch: 28/30..  Train Loss: 0.401..  Test Loss: 0.388..  Test Accuracy: 0.873\n",
      "Epoch: 29/30..  Train Loss: 0.394..  Test Loss: 0.404..  Test Accuracy: 0.863\n",
      "Epoch: 30/30..  Train Loss: 0.396..  Test Loss: 0.390..  Test Accuracy: 0.867\n"
     ]
    }
   ],
   "source": [
    "# Train model with dropout, and monitor the training progress with the validation loss and accuracy\n",
    "model = Classifier()\n",
    "criterion = nn.NLLLoss()\n",
    "optimizer = optim.Adam(model.parameters(), lr=0.004)\n",
    "\n",
    "epochs = 30\n",
    "steps = 0\n",
    "\n",
    "for e in range(epochs):\n",
    "    \n",
    "    train_loss = 0\n",
    "    \n",
    "    for images, labels in trainloader:\n",
    "        \n",
    "        # Clear the gradients, do this because gradients are accumulated\n",
    "        optimizer.zero_grad()\n",
    "        \n",
    "        # Make a forward pass through the network to get the logits\n",
    "        logits = model(images)\n",
    "        \n",
    "        # Use the logits to calculate the loss\n",
    "        loss = criterion(logits, labels)\n",
    "        \n",
    "        # Perform a backward pass through the network to calculate the gradients\n",
    "        loss.backward()\n",
    "        \n",
    "        # Update the weights\n",
    "        optimizer.step()\n",
    "        \n",
    "        # Update train loss\n",
    "        train_loss += loss.item()\n",
    "        \n",
    "    else:\n",
    "        \n",
    "        test_loss = 0\n",
    "        accuracy = 0\n",
    "        \n",
    "        # Implement the validation pass and print out the validation accuracy\n",
    "        with torch.no_grad():\n",
    "            \n",
    "            # Set model to evaluation mode\n",
    "            model.eval()\n",
    "            \n",
    "            # Validation pass here\n",
    "            for images, labels in testloader:\n",
    "                \n",
    "                # Make a forward pass through the network to get the logits\n",
    "                logits = model(images)\n",
    "                \n",
    "                # Use the logits to calculate the loss\n",
    "                loss = criterion(logits, labels)\n",
    "                \n",
    "                # Get the class probabilities\n",
    "                ps = torch.exp(logits)\n",
    "                \n",
    "                # Get the most likely class using the ps.topk method\n",
    "                top_p, top_class = ps.topk(1, dim=1)\n",
    "                \n",
    "                # Check if the predicted classes match the labels\n",
    "                equals = top_class == labels.view(*top_class.shape)\n",
    "                \n",
    "                # Update test loss\n",
    "                test_loss += loss.item()\n",
    "                \n",
    "                # Calculate the percentage of correct predictions\n",
    "                accuracy += torch.mean(equals.type(torch.FloatTensor))\n",
    "                \n",
    "        # Set model back to train mode\n",
    "        model.train()\n",
    "        \n",
    "        print(\"Epoch: {}/{}.. \".format(e+1, epochs),\n",
    "              \"Train Loss: {:.3f}.. \".format(train_loss/len(trainloader)),\n",
    "              \"Test Loss: {:.3f}.. \".format(test_loss/len(testloader)),\n",
    "              \"Test Accuracy: {:.3f}\".format(accuracy/len(testloader)))"
   ]
  },
  {
   "cell_type": "markdown",
   "metadata": {},
   "source": [
    "## Inference\n",
    "\n",
    "Now that the model is trained, we can use it for inference. We've done this before, but now we need to remember to set the model in inference mode with `model.eval()`. You'll also want to turn off autograd with the `torch.no_grad()` context."
   ]
  },
  {
   "cell_type": "code",
   "execution_count": 10,
   "metadata": {},
   "outputs": [],
   "source": [
    "# Import helper module (should be in the repo)\n",
    "import helper\n",
    "\n",
    "model.eval()\n",
    "\n",
    "dataiter = iter(testloader)\n",
    "images, labels = dataiter.next()"
   ]
  },
  {
   "cell_type": "code",
   "execution_count": 11,
   "metadata": {},
   "outputs": [
    {
     "data": {
      "image/png": "[encoded data removed]",
      "text/plain": [
       "<Figure size 432x648 with 2 Axes>"
      ]
     },
     "metadata": {
      "needs_background": "light"
     },
     "output_type": "display_data"
    }
   ],
   "source": [
    "img = images[0]\n",
    "\n",
    "# Convert 2D image to 1D vector\n",
    "img = img.view(1, 784)\n",
    "\n",
    "# Calculate the class probabilities (softmax) for img\n",
    "with torch.no_grad():\n",
    "    output = model.forward(img)\n",
    "\n",
    "ps = torch.exp(output)\n",
    "\n",
    "# Plot the image and probabilities\n",
    "helper.view_classify(img.view(1, 28, 28), ps, version='Fashion')"
   ]
  },
  {
   "cell_type": "code",
   "execution_count": 12,
   "metadata": {},
   "outputs": [
    {
     "data": {
      "image/png": "[encoded data removed]",
      "text/plain": [
       "<Figure size 432x648 with 2 Axes>"
      ]
     },
     "metadata": {
      "needs_background": "light"
     },
     "output_type": "display_data"
    }
   ],
   "source": [
    "img = images[1]\n",
    "\n",
    "# Convert 2D image to 1D vector\n",
    "img = img.view(1, 784)\n",
    "\n",
    "# Calculate the class probabilities (softmax) for img\n",
    "with torch.no_grad():\n",
    "    output = model.forward(img)\n",
    "\n",
    "ps = torch.exp(output)\n",
    "\n",
    "# Plot the image and probabilities\n",
    "helper.view_classify(img.view(1, 28, 28), ps, version='Fashion')"
   ]
  },
  {
   "cell_type": "code",
   "execution_count": 13,
   "metadata": {},
   "outputs": [
    {
     "data": {
      "image/png": "[encoded data removed]",
      "text/plain": [
       "<Figure size 432x648 with 2 Axes>"
      ]
     },
     "metadata": {
      "needs_background": "light"
     },
     "output_type": "display_data"
    }
   ],
   "source": [
    "img = images[2]\n",
    "\n",
    "# Convert 2D image to 1D vector\n",
    "img = img.view(1, 784)\n",
    "\n",
    "# Calculate the class probabilities (softmax) for img\n",
    "with torch.no_grad():\n",
    "    output = model.forward(img)\n",
    "\n",
    "ps = torch.exp(output)\n",
    "\n",
    "# Plot the image and probabilities\n",
    "helper.view_classify(img.view(1, 28, 28), ps, version='Fashion')"
   ]
  },
  {
   "cell_type": "markdown",
   "metadata": {},
   "source": [
    "## Next Up!\n",
    "\n",
    "In the next part, I'll show you how to save your trained models. In general, you won't want to train a model everytime you need it. Instead, you'll train once, save it, then load the model when you want to train more or use if for inference."
   ]
  }
 ],
 "metadata": {
  "kernelspec": {
   "display_name": "Python 3",
   "language": "python",
   "name": "python3"
  },
  "language_info": {
   "codemirror_mode": {
    "name": "ipython",
    "version": 3
   },
   "file_extension": ".py",
   "mimetype": "text/x-python",
   "name": "python",
   "nbconvert_exporter": "python",
   "pygments_lexer": "ipython3",
   "version": "3.7.3"
  }
 },
 "nbformat": 4,
 "nbformat_minor": 2
}
